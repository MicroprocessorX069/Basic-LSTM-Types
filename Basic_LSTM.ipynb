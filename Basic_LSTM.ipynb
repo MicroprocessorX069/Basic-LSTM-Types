{
  "nbformat": 4,
  "nbformat_minor": 0,
  "metadata": {
    "colab": {
      "name": "Basic LSTM.ipynb",
      "provenance": [],
      "include_colab_link": true
    },
    "kernelspec": {
      "name": "python3",
      "display_name": "Python 3"
    },
    "accelerator": "GPU"
  },
  "cells": [
    {
      "cell_type": "markdown",
      "metadata": {
        "id": "view-in-github",
        "colab_type": "text"
      },
      "source": [
        "<a href=\"https://colab.research.google.com/github/MicroprocessorX069/Basic-LSTM-Types/blob/master/Basic_LSTM.ipynb\" target=\"_parent\"><img src=\"https://colab.research.google.com/assets/colab-badge.svg\" alt=\"Open In Colab\"/></a>"
      ]
    },
    {
      "cell_type": "code",
      "metadata": {
        "id": "dflUNFEBKaBn",
        "colab_type": "code",
        "colab": {}
      },
      "source": [
        "from __future__ import absolute_import, division, print_function, unicode_literals\n",
        "!pip install tensorflow-gpu==2.0.0-alpha0\n",
        "import tensorflow as tf\n",
        "import numpy as np\n",
        "import os\n",
        "import datetime\n",
        "from tensorflow.python.client import device_lib\n",
        "print(device_lib.list_local_devices())\n",
        "\n",
        "print(\"Tensorflow version: \",tf.__version__)"
      ],
      "execution_count": 0,
      "outputs": []
    },
    {
      "cell_type": "code",
      "metadata": {
        "id": "63shfdreVapA",
        "colab_type": "code",
        "colab": {
          "base_uri": "https://localhost:8080/",
          "height": 34
        },
        "outputId": "41bebe76-abd4-44b1-b5f8-f2286dc4cf3d"
      },
      "source": [
        "import os\n",
        "path=os.getcwd()\n",
        "\n",
        "text=open(path+'/Iliad_v3.txt','rb').read().decode(encoding='utf-8')\n",
        "print(\"Text is {} characters long\".format(len(text)))"
      ],
      "execution_count": 2,
      "outputs": [
        {
          "output_type": "stream",
          "text": [
            "Text is 886809 characters long\n"
          ],
          "name": "stdout"
        }
      ]
    },
    {
      "cell_type": "code",
      "metadata": {
        "id": "oalGpKWMWuNR",
        "colab_type": "code",
        "colab": {
          "base_uri": "https://localhost:8080/",
          "height": 34
        },
        "outputId": "3eabba5d-efe7-49a2-918a-daf6d21e7237"
      },
      "source": [
        "words=[w for w in text.split(' ') if w.strip()!='' or w=='\\n']\n",
        "print(\"Text is {} words long\".format(len(words)))"
      ],
      "execution_count": 3,
      "outputs": [
        {
          "output_type": "stream",
          "text": [
            "Text is 153260 words long\n"
          ],
          "name": "stdout"
        }
      ]
    },
    {
      "cell_type": "code",
      "metadata": {
        "id": "1tqhNC3wXEz1",
        "colab_type": "code",
        "colab": {}
      },
      "source": [
        "vocab=sorted(set(text))\n",
        "print(\"There are {} unique characters\".format(len(vocab)))\n",
        "char2int={c:i for i,c in enumerate(vocab)}\n",
        "int2char=np.array(vocab)\n",
        "print(\"Vector:\\n\")\n",
        "for char,_ in zip(char2int,range(len(vocab))):\n",
        "  print(' {:4s}: {:3d},'.format(repr(char), char2int[char]))"
      ],
      "execution_count": 0,
      "outputs": []
    },
    {
      "cell_type": "code",
      "metadata": {
        "id": "GyJLyAQgcPJo",
        "colab_type": "code",
        "colab": {}
      },
      "source": [
        "text_as_int=np.array([char2int[ch] for ch in text],dtype=np.int32)\n",
        "print('{}\\n mapped to integers:\\n {}'.format(repr(text[:100])))"
      ],
      "execution_count": 0,
      "outputs": []
    }
  ]
}