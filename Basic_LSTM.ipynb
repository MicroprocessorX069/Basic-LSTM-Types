{
  "nbformat": 4,
  "nbformat_minor": 0,
  "metadata": {
    "colab": {
      "name": "Basic LSTM.ipynb",
      "provenance": [],
      "collapsed_sections": [],
      "include_colab_link": true
    },
    "kernelspec": {
      "name": "python3",
      "display_name": "Python 3"
    },
    "accelerator": "GPU"
  },
  "cells": [
    {
      "cell_type": "markdown",
      "metadata": {
        "id": "view-in-github",
        "colab_type": "text"
      },
      "source": [
        "<a href=\"https://colab.research.google.com/github/MicroprocessorX069/Basic-LSTM-Types/blob/master/Basic_LSTM.ipynb\" target=\"_parent\"><img src=\"https://colab.research.google.com/assets/colab-badge.svg\" alt=\"Open In Colab\"/></a>"
      ]
    },
    {
      "cell_type": "code",
      "metadata": {
        "id": "dflUNFEBKaBn",
        "colab_type": "code",
        "colab": {}
      },
      "source": [
        "from __future__ import absolute_import, division, print_function, unicode_literals\n",
        "!pip install tensorflow-gpu==2.0.0-alpha0\n",
        "import tensorflow as tf\n",
        "import numpy as np\n",
        "import os\n",
        "import datetime\n",
        "from tensorflow.python.client import device_lib\n",
        "print(device_lib.list_local_devices())\n",
        "\n",
        "print(\"Tensorflow version: \",tf.__version__)"
      ],
      "execution_count": 0,
      "outputs": []
    },
    {
      "cell_type": "code",
      "metadata": {
        "id": "63shfdreVapA",
        "colab_type": "code",
        "outputId": "11613334-815e-47b5-d1a4-3ceffaa31c86",
        "colab": {
          "base_uri": "https://localhost:8080/",
          "height": 34
        }
      },
      "source": [
        "import os\n",
        "path=os.getcwd()\n",
        "\n",
        "text=open(path+'/Iliad_v3.txt','rb').read().decode(encoding='utf-8')\n",
        "print(\"Text is {} characters long\".format(len(text)))"
      ],
      "execution_count": 2,
      "outputs": [
        {
          "output_type": "stream",
          "text": [
            "Text is 886809 characters long\n"
          ],
          "name": "stdout"
        }
      ]
    },
    {
      "cell_type": "code",
      "metadata": {
        "id": "oalGpKWMWuNR",
        "colab_type": "code",
        "outputId": "60298715-31a3-4026-f525-d3cd5414d787",
        "colab": {
          "base_uri": "https://localhost:8080/",
          "height": 34
        }
      },
      "source": [
        "words=[w for w in text.split(' ') if w.strip()!='' or w=='\\n']\n",
        "print(\"Text is {} words long\".format(len(words)))"
      ],
      "execution_count": 3,
      "outputs": [
        {
          "output_type": "stream",
          "text": [
            "Text is 153260 words long\n"
          ],
          "name": "stdout"
        }
      ]
    },
    {
      "cell_type": "code",
      "metadata": {
        "id": "1tqhNC3wXEz1",
        "colab_type": "code",
        "colab": {
          "base_uri": "https://localhost:8080/",
          "height": 646
        },
        "outputId": "df557438-77cb-43f9-c539-cc57d8c32082"
      },
      "source": [
        "vocab=sorted(set(text))\n",
        "print(\"There are {} unique characters\".format(len(vocab)))\n",
        "char2int={c:i for i,c in enumerate(vocab)}\n",
        "int2char=np.array(vocab)\n",
        "print(\"Vector:\\n\")\n",
        "for char,_ in zip(char2int,range(len(vocab))):\n",
        "  print(' {:4s}: {:3d},'.format(repr(char), char2int[char]))"
      ],
      "execution_count": 4,
      "outputs": [
        {
          "output_type": "stream",
          "text": [
            "There are 34 unique characters\n",
            "Vector:\n",
            "\n",
            " '\\n':   0,\n",
            " ' ' :   1,\n",
            " '!' :   2,\n",
            " \"'\" :   3,\n",
            " ',' :   4,\n",
            " '-' :   5,\n",
            " '.' :   6,\n",
            " '?' :   7,\n",
            " 'a' :   8,\n",
            " 'b' :   9,\n",
            " 'c' :  10,\n",
            " 'd' :  11,\n",
            " 'e' :  12,\n",
            " 'f' :  13,\n",
            " 'g' :  14,\n",
            " 'h' :  15,\n",
            " 'i' :  16,\n",
            " 'j' :  17,\n",
            " 'k' :  18,\n",
            " 'l' :  19,\n",
            " 'm' :  20,\n",
            " 'n' :  21,\n",
            " 'o' :  22,\n",
            " 'p' :  23,\n",
            " 'q' :  24,\n",
            " 'r' :  25,\n",
            " 's' :  26,\n",
            " 't' :  27,\n",
            " 'u' :  28,\n",
            " 'v' :  29,\n",
            " 'w' :  30,\n",
            " 'x' :  31,\n",
            " 'y' :  32,\n",
            " 'z' :  33,\n"
          ],
          "name": "stdout"
        }
      ]
    },
    {
      "cell_type": "markdown",
      "metadata": {
        "id": "DSfwTddbxsAW",
        "colab_type": "text"
      },
      "source": [
        "Each characted mapped as a no."
      ]
    },
    {
      "cell_type": "code",
      "metadata": {
        "id": "kLbNb2WKxLXH",
        "colab_type": "code",
        "colab": {
          "base_uri": "https://localhost:8080/",
          "height": 136
        },
        "outputId": "082ae93c-1641-4123-ffed-7d9ac20e45dd"
      },
      "source": [
        "text_as_int = np.array([char2int[ch] for ch in text], dtype=np.int32)\n",
        "print ('{}\\n mapped to integers:\\n {}'.format(repr(text[:100]), text_as_int[:100]))"
      ],
      "execution_count": 7,
      "outputs": [
        {
          "output_type": "stream",
          "text": [
            "\"  achilles' wrath, to greece the direful spring\\n  of woes unnumber'd, heavenly goddess, sing!\\n  that\"\n",
            " mapped to integers:\n",
            " [ 1  1  8 10 15 16 19 19 12 26  3  1 30 25  8 27 15  4  1 27 22  1 14 25\n",
            " 12 12 10 12  1 27 15 12  1 11 16 25 12 13 28 19  1 26 23 25 16 21 14  0\n",
            "  1  1 22 13  1 30 22 12 26  1 28 21 21 28 20  9 12 25  3 11  4  1 15 12\n",
            "  8 29 12 21 19 32  1 14 22 11 11 12 26 26  4  1 26 16 21 14  2  0  1  1\n",
            " 27 15  8 27]\n"
          ],
          "name": "stdout"
        }
      ]
    },
    {
      "cell_type": "markdown",
      "metadata": {
        "id": "2MC4ZvBBxi-d",
        "colab_type": "text"
      },
      "source": [
        "Creating training and validation sets"
      ]
    },
    {
      "cell_type": "code",
      "metadata": {
        "id": "sIqu_kamxiV1",
        "colab_type": "code",
        "colab": {
          "base_uri": "https://localhost:8080/",
          "height": 34
        },
        "outputId": "c93abe92-8661-41d3-fbaf-747fdd30e4d6"
      },
      "source": [
        "tr_text = text_as_int[:704000] \n",
        "val_text = text_as_int[704000:] \n",
        "print(\"Total size: {}, Train size : {}, Test size:{}\" \\\n",
        ".format(text_as_int.shape, tr_text.shape, val_text.shape))"
      ],
      "execution_count": 11,
      "outputs": [
        {
          "output_type": "stream",
          "text": [
            "Total size: (886809,), Train size : (704000,), Test size:(182809,)\n"
          ],
          "name": "stdout"
        }
      ]
    },
    {
      "cell_type": "markdown",
      "metadata": {
        "id": "FW0wfYxUyMmm",
        "colab_type": "text"
      },
      "source": [
        "Hyperparameters"
      ]
    },
    {
      "cell_type": "code",
      "metadata": {
        "id": "9Kz1ltYzyPCA",
        "colab_type": "code",
        "colab": {}
      },
      "source": [
        "batch_size=64\n",
        "buffer_size=10000\n",
        "embedding_dim=256\n",
        "epoch=50\n",
        "seq_length=200\n",
        "examples_per_epoch=len(text)//seq_length\n",
        "rnn_units=1024\n",
        "vocab_size=len(vocab)"
      ],
      "execution_count": 0,
      "outputs": []
    },
    {
      "cell_type": "markdown",
      "metadata": {
        "id": "oLrvQjIp3pHc",
        "colab_type": "text"
      },
      "source": [
        "Slicing the dataset in batchsizes, shuffling and mapping input to respective target. "
      ]
    },
    {
      "cell_type": "code",
      "metadata": {
        "id": "7LqUUdSa1Sgu",
        "colab_type": "code",
        "colab": {}
      },
      "source": [
        "tr_char_dataset=tf.data.Dataset.from_tensor_slices(tr_text) #what does tensor slices do\n",
        "val_char_dataset=tf.data.Dataset.from_tensor_slices(val_text) \n",
        "tr_sequences=tr_char_dataset.batch(seq_length+1, drop_remainder=True)\n",
        "val_sequences=val_char_dataset.batch(seq_length+1, drop_remainder=True)\n",
        "def split_input_target(chunk):\n",
        "  input_text=chunk[:-1]\n",
        "  target_text=chunk[1:]\n",
        "  return input_text,target_text\n",
        "\n",
        "tr_dataset=tr_sequences.map(split_input_target).shuffle(buffer_size).batch(batch_size, drop_remainder=True)\n",
        "val_dataset=val_sequences.map(split_input_target).shuffle(buffer_size).batch(batch_size, drop_remainder=True)\n"
      ],
      "execution_count": 0,
      "outputs": []
    },
    {
      "cell_type": "markdown",
      "metadata": {
        "id": "FccnH_WBc0co",
        "colab_type": "text"
      },
      "source": [
        "https://towardsdatascience.com/generating-text-with-tensorflow-2-0-6a65c7bdc568"
      ]
    },
    {
      "cell_type": "markdown",
      "metadata": {
        "id": "i3mzGA7mc1De",
        "colab_type": "text"
      },
      "source": [
        ""
      ]
    }
  ]
}